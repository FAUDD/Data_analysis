{
 "cells": [
  {
   "cell_type": "code",
   "execution_count": 59,
   "metadata": {},
   "outputs": [],
   "source": [
    "import pandas as pd\n",
    "import sklearn.cross_validation as cross_validation\n",
    "import sklearn.model_selection as model_selection\n",
    "from sklearn.model_selection import KFold"
   ]
  },
  {
   "cell_type": "code",
   "execution_count": 60,
   "metadata": {},
   "outputs": [
    {
     "name": "stdout",
     "output_type": "stream",
     "text": [
      "[0, 1, 2, 3, 4, 5, 6, 7, 8, 9]\n"
     ]
    }
   ],
   "source": [
    "X =  list(range(10))\n",
    "print (X)"
   ]
  },
  {
   "cell_type": "code",
   "execution_count": 61,
   "metadata": {},
   "outputs": [
    {
     "name": "stdout",
     "output_type": "stream",
     "text": [
      "[0, 1, 4, 9, 16, 25, 36, 49, 64, 81]\n"
     ]
    }
   ],
   "source": [
    "y = [x*x for x in X]\n",
    "print (y)"
   ]
  },
  {
   "cell_type": "code",
   "execution_count": 62,
   "metadata": {},
   "outputs": [
    {
     "name": "stdout",
     "output_type": "stream",
     "text": [
      "X_train:  [4, 9, 3, 5, 7, 6, 1]\n",
      "y_train:  [16, 81, 9, 25, 49, 36, 1]\n",
      "x_test:  [8, 2, 0]\n",
      "y_test:  [64, 4, 0]\n"
     ]
    }
   ],
   "source": [
    "X_train, X_test, y_train, y_test = cross_validation.train_test_split(X, y, train_size=0.75, random_state=101)\n",
    "print (\"X_train: \", X_train)\n",
    "print (\"y_train: \", y_train)\n",
    "print(\"x_test: \", X_test)\n",
    "print (\"y_test: \", y_test)"
   ]
  },
  {
   "cell_type": "code",
   "execution_count": 63,
   "metadata": {},
   "outputs": [
    {
     "name": "stdout",
     "output_type": "stream",
     "text": [
      "X_train:  [4, 9, 3, 5, 7, 6, 1]\n",
      "y_train:  [16, 81, 9, 25, 49, 36, 1]\n",
      "x_test:  [8, 2, 0]\n",
      "y_test:  [64, 4, 0]\n"
     ]
    },
    {
     "name": "stderr",
     "output_type": "stream",
     "text": [
      "/Users/jane/anaconda3/lib/python3.6/site-packages/sklearn/model_selection/_split.py:2026: FutureWarning: From version 0.21, test_size will always complement train_size unless both are specified.\n",
      "  FutureWarning)\n"
     ]
    }
   ],
   "source": [
    "X_train, X_test, y_train, y_test = model_selection.train_test_split(X, y, train_size=0.75, random_state=101)\n",
    "print (\"X_train: \", X_train)\n",
    "print (\"y_train: \", y_train)\n",
    "print(\"x_test: \", X_test)\n",
    "print (\"y_test: \", y_test)"
   ]
  },
  {
   "cell_type": "code",
   "execution_count": 64,
   "metadata": {},
   "outputs": [
    {
     "name": "stdout",
     "output_type": "stream",
     "text": [
      "X_train:  [0, 1, 2, 3, 4, 5, 6]\n",
      "y_train:  [0, 1, 4, 9, 16, 25, 36]\n",
      "x_test:  [7, 8, 9]\n",
      "y_test:  [49, 64, 81]\n"
     ]
    }
   ],
   "source": [
    "X_train, X_test, y_train, y_test = model_selection.train_test_split(X, y, train_size=0.75, test_size=0.25, shuffle=False)\n",
    "print (\"X_train: \", X_train)\n",
    "print (\"y_train: \", y_train)\n",
    "print(\"x_test: \", X_test)\n",
    "print (\"y_test: \", y_test)"
   ]
  },
  {
   "cell_type": "code",
   "execution_count": 73,
   "metadata": {},
   "outputs": [
    {
     "name": "stdout",
     "output_type": "stream",
     "text": [
      "X_train:  [2 3 4 5 6 7 8 9]\n",
      "y_train:  [ 4  9 16 25 36 49 64 81]\n",
      "x_test:  [0 1]\n",
      "y_test:  [0 1]\n",
      "X_train:  [0 1 4 5 6 7 8 9]\n",
      "y_train:  [ 0  1 16 25 36 49 64 81]\n",
      "x_test:  [2 3]\n",
      "y_test:  [4 9]\n",
      "X_train:  [0 1 2 3 6 7 8 9]\n",
      "y_train:  [ 0  1  4  9 36 49 64 81]\n",
      "x_test:  [4 5]\n",
      "y_test:  [16 25]\n",
      "X_train:  [0 1 2 3 4 5 8 9]\n",
      "y_train:  [ 0  1  4  9 16 25 64 81]\n",
      "x_test:  [6 7]\n",
      "y_test:  [36 49]\n",
      "X_train:  [0 1 2 3 4 5 6 7]\n",
      "y_train:  [ 0  1  4  9 16 25 36 49]\n",
      "x_test:  [8 9]\n",
      "y_test:  [64 81]\n"
     ]
    }
   ],
   "source": [
    "kf = KFold(n_splits=5)\n",
    "X = np.array(X)\n",
    "y = np.array(y)\n",
    "for train_index, test_index in kf.split(X):\n",
    "    X_train, X_test = X[train_index], X[test_index]\n",
    "    y_train, y_test = y[train_index], y[test_index]\n",
    "    print (\"X_train: \", X_train)\n",
    "    print (\"y_train: \", y_train)\n",
    "    print(\"x_test: \", X_test)\n",
    "    print (\"y_test: \", y_test)"
   ]
  },
  {
   "cell_type": "code",
   "execution_count": 77,
   "metadata": {},
   "outputs": [
    {
     "name": "stdout",
     "output_type": "stream",
     "text": [
      "X_train:  [0 2 3 4 5 6 8 9]\n",
      "y_train:  [ 0  4  9 16 25 36 64 81]\n",
      "x_test:  [1 7]\n",
      "y_test:  [ 1 49]\n",
      "X_train:  [0 1 2 3 4 5 7 8]\n",
      "y_train:  [ 0  1  4  9 16 25 49 64]\n",
      "x_test:  [6 9]\n",
      "y_test:  [36 81]\n",
      "X_train:  [0 1 4 5 6 7 8 9]\n",
      "y_train:  [ 0  1 16 25 36 49 64 81]\n",
      "x_test:  [2 3]\n",
      "y_test:  [4 9]\n",
      "X_train:  [1 2 3 5 6 7 8 9]\n",
      "y_train:  [ 1  4  9 25 36 49 64 81]\n",
      "x_test:  [0 4]\n",
      "y_test:  [ 0 16]\n",
      "X_train:  [0 1 2 3 4 6 7 9]\n",
      "y_train:  [ 0  1  4  9 16 36 49 81]\n",
      "x_test:  [5 8]\n",
      "y_test:  [25 64]\n"
     ]
    }
   ],
   "source": [
    "kf = KFold(n_splits=5, shuffle=True)\n",
    "for train_index, test_index in kf.split(X):\n",
    "    X_train, X_test = X[train_index], X[test_index]\n",
    "    y_train, y_test = y[train_index], y[test_index]\n",
    "    print (\"X_train: \", X_train)\n",
    "    print (\"y_train: \", y_train)\n",
    "    print(\"x_test: \", X_test)\n",
    "    print (\"y_test: \", y_test)"
   ]
  },
  {
   "cell_type": "code",
   "execution_count": null,
   "metadata": {},
   "outputs": [],
   "source": []
  }
 ],
 "metadata": {
  "kernelspec": {
   "display_name": "Python 3",
   "language": "python",
   "name": "python3"
  },
  "language_info": {
   "codemirror_mode": {
    "name": "ipython",
    "version": 3
   },
   "file_extension": ".py",
   "mimetype": "text/x-python",
   "name": "python",
   "nbconvert_exporter": "python",
   "pygments_lexer": "ipython3",
   "version": "3.6.5"
  }
 },
 "nbformat": 4,
 "nbformat_minor": 2
}
